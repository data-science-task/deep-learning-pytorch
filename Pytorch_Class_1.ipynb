{
  "nbformat": 4,
  "nbformat_minor": 0,
  "metadata": {
    "colab": {
      "provenance": [],
      "authorship_tag": "ABX9TyPAgUcHfGVETvMdU2W9uPlS"
    },
    "kernelspec": {
      "name": "python3",
      "display_name": "Python 3"
    },
    "language_info": {
      "name": "python"
    }
  },
  "cells": [
    {
      "cell_type": "markdown",
      "source": [
        "### Importação do Pytorch e do Numpy"
      ],
      "metadata": {
        "id": "yhnh0Eq8-ehA"
      }
    },
    {
      "cell_type": "code",
      "execution_count": 1,
      "metadata": {
        "id": "R3a3ApwutO3j"
      },
      "outputs": [],
      "source": [
        "import torch\n",
        "import numpy as np"
      ]
    },
    {
      "cell_type": "markdown",
      "source": [
        "### Conversão de lista para tensor e tensor para array numpy"
      ],
      "metadata": {
        "id": "cH5K2rfD-XMv"
      }
    },
    {
      "cell_type": "code",
      "source": [
        "data = [[1, 2], [3, 4]]\n",
        "x_data = torch.tensor(data) # data: int64 | Tensor(data) # float32\n",
        "print(x_data)\n",
        "print(\"dtype: \", x_data.dtype)"
      ],
      "metadata": {
        "colab": {
          "base_uri": "https://localhost:8080/"
        },
        "id": "srQtP0A0uNPw",
        "outputId": "58c958a8-0cd1-4f14-ff0b-b37f30f25188"
      },
      "execution_count": 2,
      "outputs": [
        {
          "output_type": "stream",
          "name": "stdout",
          "text": [
            "tensor([[1, 2],\n",
            "        [3, 4]])\n",
            "dtype:  torch.int64\n"
          ]
        }
      ]
    },
    {
      "cell_type": "code",
      "source": [
        "np_array = np.array(data)\n",
        "x_np = torch.from_numpy(np_array)"
      ],
      "metadata": {
        "id": "aGupGbWnuxtF"
      },
      "execution_count": 3,
      "outputs": []
    },
    {
      "cell_type": "markdown",
      "source": [
        "### Inicializando tensores\n",
        "\n",
        "- torch.ones_like: pode receber um tensor como entrada e novo tensor será gerado com o formato do tensor de entrada.\n",
        "\n",
        "- torch.ones: não permite receber um tensor como entrada e seu 1º argumento é o formato."
      ],
      "metadata": {
        "id": "fv71FSa1-Qmj"
      }
    },
    {
      "cell_type": "code",
      "source": [
        "x_ones = torch.ones_like(x_data)\n",
        "print(f\"Ones Tensor:\\n {x_ones} \\n\")"
      ],
      "metadata": {
        "colab": {
          "base_uri": "https://localhost:8080/"
        },
        "id": "XhdNCk6EvyP4",
        "outputId": "b4433221-56ce-4678-c4b4-fda61b30d5f8"
      },
      "execution_count": 4,
      "outputs": [
        {
          "output_type": "stream",
          "name": "stdout",
          "text": [
            "Ones Tensor:\n",
            " tensor([[1, 1],\n",
            "        [1, 1]]) \n",
            "\n"
          ]
        }
      ]
    },
    {
      "cell_type": "code",
      "source": [
        "x_rand = torch.rand_like(x_data, dtype=torch.float)\n",
        "print(f\"Random Tensor: \\n {x_rand} \\n\")"
      ],
      "metadata": {
        "colab": {
          "base_uri": "https://localhost:8080/"
        },
        "id": "XzCny0Zsw-8Z",
        "outputId": "98c4a51a-7d3a-436c-8d0f-997d7b82e32a"
      },
      "execution_count": 5,
      "outputs": [
        {
          "output_type": "stream",
          "name": "stdout",
          "text": [
            "Random Tensor: \n",
            " tensor([[0.5482, 0.1115],\n",
            "        [0.7924, 0.5252]]) \n",
            "\n"
          ]
        }
      ]
    },
    {
      "cell_type": "code",
      "source": [
        "shape = (2,3)\n",
        "rand_tensor = torch.rand(shape)\n",
        "ones_tensor = torch.ones(shape)\n",
        "zeros_tensor = torch.zeros(shape)\n",
        "\n",
        "print(f\"Random Tensor: \\n {rand_tensor} \\n\")\n",
        "print(f\"Ones Tensor: \\n {ones_tensor} \\n\")\n",
        "print(f\"Zeros Tensor: \\n {zeros_tensor}\")"
      ],
      "metadata": {
        "colab": {
          "base_uri": "https://localhost:8080/"
        },
        "id": "j-seARpfx8Ct",
        "outputId": "e9e6e02e-5563-4e30-c8c1-c37fcbca912f"
      },
      "execution_count": 6,
      "outputs": [
        {
          "output_type": "stream",
          "name": "stdout",
          "text": [
            "Random Tensor: \n",
            " tensor([[0.6735, 0.4892, 0.8475],\n",
            "        [0.7509, 0.3327, 0.3504]]) \n",
            "\n",
            "Ones Tensor: \n",
            " tensor([[1., 1., 1.],\n",
            "        [1., 1., 1.]]) \n",
            "\n",
            "Zeros Tensor: \n",
            " tensor([[0., 0., 0.],\n",
            "        [0., 0., 0.]])\n"
          ]
        }
      ]
    },
    {
      "cell_type": "markdown",
      "source": [
        "### Exibição das informações dos tensores"
      ],
      "metadata": {
        "id": "ZRSoYoN998Ea"
      }
    },
    {
      "cell_type": "code",
      "source": [
        "tensor = torch.rand(3, 4)\n",
        "print(f\"Shape of tensor: {tensor.shape}\") # formato: linhas e/ou colunas\n",
        "print(f\"Datatype of tensor: {tensor.dtype}\") # tipo de dado\n",
        "print(f\"Device tensor is stored on: {tensor.device}\") # dispositivo de armazenamento"
      ],
      "metadata": {
        "colab": {
          "base_uri": "https://localhost:8080/"
        },
        "id": "Z4x4Tw3JysS3",
        "outputId": "7ca71a3d-bb9c-4d6b-dccb-9a2b91166246"
      },
      "execution_count": 7,
      "outputs": [
        {
          "output_type": "stream",
          "name": "stdout",
          "text": [
            "Shape of tensor: torch.Size([3, 4])\n",
            "Datatype of tensor: torch.float32\n",
            "Device tensor is stored on: cpu\n"
          ]
        }
      ]
    },
    {
      "cell_type": "markdown",
      "source": [
        "### Troca de dispositivo de processamento"
      ],
      "metadata": {
        "id": "sv8Dhjdt99rT"
      }
    },
    {
      "cell_type": "code",
      "source": [
        "if torch.cuda.is_available():\n",
        "  tensor = tensor.to(\"cuda\")\n",
        "else:\n",
        "  print(tensor.device)"
      ],
      "metadata": {
        "id": "OK-NBD3BzDUh",
        "colab": {
          "base_uri": "https://localhost:8080/"
        },
        "outputId": "8e409915-f175-44c9-a882-50331cc4b782"
      },
      "execution_count": 8,
      "outputs": [
        {
          "output_type": "stream",
          "name": "stdout",
          "text": [
            "cpu\n"
          ]
        }
      ]
    },
    {
      "cell_type": "markdown",
      "source": [
        "### Técnica de fatiamento"
      ],
      "metadata": {
        "id": "494FqgaX-kT1"
      }
    },
    {
      "cell_type": "code",
      "source": [
        "tensor = torch.ones(4,4)\n",
        "print(f\"First row: {tensor[0]}\")\n",
        "print(f\"First column: {tensor[:,0]}\")\n",
        "print(f\"Last column: {tensor[...,-1]}\")\n",
        "tensor[..., -1] = 0\n",
        "print(tensor)"
      ],
      "metadata": {
        "colab": {
          "base_uri": "https://localhost:8080/"
        },
        "id": "Jv69WmH-4CSB",
        "outputId": "98cf0c01-002f-453e-a046-b9830a012654"
      },
      "execution_count": 9,
      "outputs": [
        {
          "output_type": "stream",
          "name": "stdout",
          "text": [
            "First row: tensor([1., 1., 1., 1.])\n",
            "First column: tensor([1., 1., 1., 1.])\n",
            "Last column: tensor([1., 1., 1., 1.])\n",
            "tensor([[1., 1., 1., 0.],\n",
            "        [1., 1., 1., 0.],\n",
            "        [1., 1., 1., 0.],\n",
            "        [1., 1., 1., 0.]])\n"
          ]
        }
      ]
    },
    {
      "cell_type": "markdown",
      "source": [
        "### Exercício"
      ],
      "metadata": {
        "id": "J4sUMaN_8ZQe"
      }
    },
    {
      "cell_type": "code",
      "source": [
        "tns = torch.randn(9,12)\n",
        "tns1 = tns[0:5, 0:4]\n",
        "tns2 = tns[5:, 4:]\n",
        "\n",
        "resultado = torch.mm(tns1, tns2)\n",
        "print(resultado.size())"
      ],
      "metadata": {
        "colab": {
          "base_uri": "https://localhost:8080/"
        },
        "id": "RpfQFZHJ5Gkj",
        "outputId": "09352770-0893-402d-e73a-4bf549a55bea"
      },
      "execution_count": 10,
      "outputs": [
        {
          "output_type": "stream",
          "name": "stdout",
          "text": [
            "torch.Size([5, 8])\n"
          ]
        }
      ]
    },
    {
      "cell_type": "code",
      "source": [
        "data1 = [[1,2], [3,4]]\n",
        "data2 = [[5,6],[7,8]]\n",
        "data3 = [[9,10], [11,12]]\n",
        "\n",
        "tns1 = torch.tensor(data1)\n",
        "tns2 = torch.tensor(data2)\n",
        "tns3 = torch.tensor(data3)\n",
        "\n",
        "tns_stack = torch.stack([tns1, tns2, tns3]) # concatena uma sequência de tensores\n",
        "print(tns_stack)"
      ],
      "metadata": {
        "colab": {
          "base_uri": "https://localhost:8080/"
        },
        "id": "hslVY3yu8zpx",
        "outputId": "eca3ad8a-8716-4363-995d-212cf51f8362"
      },
      "execution_count": 11,
      "outputs": [
        {
          "output_type": "stream",
          "name": "stdout",
          "text": [
            "tensor([[[ 1,  2],\n",
            "         [ 3,  4]],\n",
            "\n",
            "        [[ 5,  6],\n",
            "         [ 7,  8]],\n",
            "\n",
            "        [[ 9, 10],\n",
            "         [11, 12]]])\n"
          ]
        }
      ]
    },
    {
      "cell_type": "code",
      "source": [
        "t1_t2 = torch.mm(tns1,tns2)\n",
        "print(t1_t2)"
      ],
      "metadata": {
        "colab": {
          "base_uri": "https://localhost:8080/"
        },
        "id": "useiOGm7HB66",
        "outputId": "e8dee198-87dd-4c29-e509-346991bb9a07"
      },
      "execution_count": 12,
      "outputs": [
        {
          "output_type": "stream",
          "name": "stdout",
          "text": [
            "tensor([[19, 22],\n",
            "        [43, 50]])\n"
          ]
        }
      ]
    },
    {
      "cell_type": "code",
      "source": [
        "t1_t2_t3 = torch.mm(t1_t2, tns3)\n",
        "print(t1_t2_t3)"
      ],
      "metadata": {
        "colab": {
          "base_uri": "https://localhost:8080/"
        },
        "id": "i5hFCFV2Jsv1",
        "outputId": "1faf43bf-7b36-4af2-fd8a-7a5f67aa5a59"
      },
      "execution_count": 13,
      "outputs": [
        {
          "output_type": "stream",
          "name": "stdout",
          "text": [
            "tensor([[ 413,  454],\n",
            "        [ 937, 1030]])\n"
          ]
        }
      ]
    },
    {
      "cell_type": "code",
      "source": [
        "x = torch.randn(2,3)\n",
        "print(x)"
      ],
      "metadata": {
        "id": "oBfxLhNyJ3AJ",
        "colab": {
          "base_uri": "https://localhost:8080/"
        },
        "outputId": "7e9ce3e3-4833-49c3-b823-88f8f7d0aae2"
      },
      "execution_count": 14,
      "outputs": [
        {
          "output_type": "stream",
          "name": "stdout",
          "text": [
            "tensor([[ 0.4644,  1.2214, -0.6420],\n",
            "        [-0.6666,  0.1358, -0.7721]])\n"
          ]
        }
      ]
    },
    {
      "cell_type": "markdown",
      "source": [
        "### Concatenação de Tensores"
      ],
      "metadata": {
        "id": "KkOJG8L29xwz"
      }
    },
    {
      "cell_type": "code",
      "source": [
        "# dim = 0 -> tensores concatenados na 1D (linha)\n",
        "x_cat = torch.cat((x,x,x),0)\n",
        "print(x_cat) # shape(6,3)\n",
        "\n",
        "# dim = 1 -> tensores concatenados na 2D (coluna)\n",
        "x_cat_n = torch.cat((x, x, x), 1)\n",
        "print(x_cat_n) # shape(2,9)\n",
        "\n",
        "# para tensores 3D a dimensão pode ser: 0, 1, 2\n",
        "# para tensores multidimensionais a dimensão pode assumir qualquer valor\n",
        "\n",
        "# o argumento out é indicado quando temos um tensor novo (vazio)\n",
        "# para armazenar o novo tensor retornado pelo método\n",
        "\n",
        "# para criar um tensor vazio temos o método: torch.empty(nl, nc)"
      ],
      "metadata": {
        "colab": {
          "base_uri": "https://localhost:8080/"
        },
        "id": "wNfKWgcW4Ny7",
        "outputId": "b45f69b4-7475-4478-bd69-1f7173fccedc"
      },
      "execution_count": 15,
      "outputs": [
        {
          "output_type": "stream",
          "name": "stdout",
          "text": [
            "tensor([[ 0.4644,  1.2214, -0.6420],\n",
            "        [-0.6666,  0.1358, -0.7721],\n",
            "        [ 0.4644,  1.2214, -0.6420],\n",
            "        [-0.6666,  0.1358, -0.7721],\n",
            "        [ 0.4644,  1.2214, -0.6420],\n",
            "        [-0.6666,  0.1358, -0.7721]])\n",
            "tensor([[ 0.4644,  1.2214, -0.6420,  0.4644,  1.2214, -0.6420,  0.4644,  1.2214,\n",
            "         -0.6420],\n",
            "        [-0.6666,  0.1358, -0.7721, -0.6666,  0.1358, -0.7721, -0.6666,  0.1358,\n",
            "         -0.7721]])\n"
          ]
        }
      ]
    },
    {
      "cell_type": "markdown",
      "source": [
        "### Divisão de tensores\n",
        "\n",
        "- split: tamanhos\n",
        "- chunks: pedaços\n",
        "- tensor_split: subtensores"
      ],
      "metadata": {
        "id": "RQMpWQUL-qIx"
      }
    },
    {
      "cell_type": "code",
      "source": [
        "tensor = torch.arange(10)\n",
        "print(tensor)"
      ],
      "metadata": {
        "colab": {
          "base_uri": "https://localhost:8080/"
        },
        "id": "AdQ2m8fT6gI6",
        "outputId": "053245b4-fe83-42f5-afb0-5c96ecf4ff96"
      },
      "execution_count": 16,
      "outputs": [
        {
          "output_type": "stream",
          "name": "stdout",
          "text": [
            "tensor([0, 1, 2, 3, 4, 5, 6, 7, 8, 9])\n"
          ]
        }
      ]
    },
    {
      "cell_type": "markdown",
      "source": [
        "**Método split**\n",
        "\n",
        "Controle sobre o tamanho dos pedaços"
      ],
      "metadata": {
        "id": "y_Koui77Gj6e"
      }
    },
    {
      "cell_type": "code",
      "source": [
        "# c / chunk terá tamanho igual, exceto o último se não for divisível pelo tamanho (split_size)\n",
        "chunks = torch.split(tensor,3)\n",
        "for i, chunk in enumerate(chunks):\n",
        "  print(f\"Chunk {i}: {chunk} e {chunk.size()}\")"
      ],
      "metadata": {
        "colab": {
          "base_uri": "https://localhost:8080/"
        },
        "id": "bWYX9MD6-0dM",
        "outputId": "186c9055-0487-46a2-94ee-efe16e4cf51b"
      },
      "execution_count": 17,
      "outputs": [
        {
          "output_type": "stream",
          "name": "stdout",
          "text": [
            "Chunk 0: tensor([0, 1, 2]) e torch.Size([3])\n",
            "Chunk 1: tensor([3, 4, 5]) e torch.Size([3])\n",
            "Chunk 2: tensor([6, 7, 8]) e torch.Size([3])\n",
            "Chunk 3: tensor([9]) e torch.Size([1])\n"
          ]
        }
      ]
    },
    {
      "cell_type": "code",
      "source": [
        "# c / chunk terá tamanho diferente (sections)\n",
        "chunks = torch.split(tensor,[4, 2, 4])\n",
        "for i, chunk in enumerate(chunks):\n",
        "  print(f\"Chunk {i}: {chunk} e {chunk.size()}\")"
      ],
      "metadata": {
        "colab": {
          "base_uri": "https://localhost:8080/"
        },
        "id": "H-5BTLCpALlk",
        "outputId": "1d22b2f8-3e73-4fd1-ac98-f6f5d367732d"
      },
      "execution_count": 18,
      "outputs": [
        {
          "output_type": "stream",
          "name": "stdout",
          "text": [
            "Chunk 0: tensor([0, 1, 2, 3]) e torch.Size([4])\n",
            "Chunk 1: tensor([4, 5]) e torch.Size([2])\n",
            "Chunk 2: tensor([6, 7, 8, 9]) e torch.Size([4])\n"
          ]
        }
      ]
    },
    {
      "cell_type": "markdown",
      "source": [
        "**Método chunk**\n",
        "\n",
        "Controle sobre a quantidade de pedaços. Não aceita lista ou tupla como argumento"
      ],
      "metadata": {
        "id": "3t1XPTV6GpE8"
      }
    },
    {
      "cell_type": "code",
      "source": [
        "# dividiu o tensor em 6 partes iguais\n",
        "torch.arange(12).chunk(6)"
      ],
      "metadata": {
        "colab": {
          "base_uri": "https://localhost:8080/"
        },
        "id": "0mYVZNxTFKFz",
        "outputId": "96501613-e002-4034-d813-eb37a6a3c542"
      },
      "execution_count": 19,
      "outputs": [
        {
          "output_type": "execute_result",
          "data": {
            "text/plain": [
              "(tensor([0, 1]),\n",
              " tensor([2, 3]),\n",
              " tensor([4, 5]),\n",
              " tensor([6, 7]),\n",
              " tensor([8, 9]),\n",
              " tensor([10, 11]))"
            ]
          },
          "metadata": {},
          "execution_count": 19
        }
      ]
    },
    {
      "cell_type": "code",
      "source": [
        "# dividiu o tensor em 5 partes iguais e 1 diferente\n",
        "torch.arange(11).chunk(6)"
      ],
      "metadata": {
        "colab": {
          "base_uri": "https://localhost:8080/"
        },
        "id": "IfBdsEDBG6c0",
        "outputId": "26c65e0f-d09d-4e8d-d323-918c09fb6c1f"
      },
      "execution_count": 20,
      "outputs": [
        {
          "output_type": "execute_result",
          "data": {
            "text/plain": [
              "(tensor([0, 1]),\n",
              " tensor([2, 3]),\n",
              " tensor([4, 5]),\n",
              " tensor([6, 7]),\n",
              " tensor([8, 9]),\n",
              " tensor([10]))"
            ]
          },
          "metadata": {},
          "execution_count": 20
        }
      ]
    },
    {
      "cell_type": "markdown",
      "source": [
        "**Método torch.tensor_split**\n",
        "\n",
        "Controle sobre a quantidade de pedaços, contudo aceita lista ou tupla sendo que diferente do torch.split a lista ou a tupla receberá em qual índice inicia o corte respeitando a regra:\n",
        "- antes do índice especificado\n",
        "- entre os índices especifiados\n",
        "- após o índice especificado\n",
        "- exemplo: (1,6)\n",
        "    - antes do índice 1\n",
        "    - entre índice 1 a 6\n",
        "    - após o índice 6\n",
        "\n",
        "No caso do torch.split, a lista ou a tupla especifica o tamanho de cada pedaço"
      ],
      "metadata": {
        "id": "2UQ4xIwbOEgK"
      }
    },
    {
      "cell_type": "code",
      "source": [
        "x = torch.arange(8).reshape(4,2)\n",
        "torch.tensor_split(x, 3)\n",
        "\n",
        "# torch.tensor_split(tns, index_or_sections, dim)\n",
        "# index_or_sections é diferente de split_size_or_section"
      ],
      "metadata": {
        "colab": {
          "base_uri": "https://localhost:8080/"
        },
        "id": "eDUUQmPwHDpj",
        "outputId": "e26633b8-e8fc-4ec2-90e8-21f380f2aa8f"
      },
      "execution_count": 21,
      "outputs": [
        {
          "output_type": "execute_result",
          "data": {
            "text/plain": [
              "(tensor([[0, 1],\n",
              "         [2, 3]]),\n",
              " tensor([[4, 5]]),\n",
              " tensor([[6, 7]]))"
            ]
          },
          "metadata": {},
          "execution_count": 21
        }
      ]
    },
    {
      "cell_type": "code",
      "source": [
        "torch.tensor_split(x, 3, 1)"
      ],
      "metadata": {
        "colab": {
          "base_uri": "https://localhost:8080/"
        },
        "id": "-vqGiDv-I5yE",
        "outputId": "b8e60774-99f4-4bed-dfd7-56d6fb14a565"
      },
      "execution_count": 22,
      "outputs": [
        {
          "output_type": "execute_result",
          "data": {
            "text/plain": [
              "(tensor([[0],\n",
              "         [2],\n",
              "         [4],\n",
              "         [6]]),\n",
              " tensor([[1],\n",
              "         [3],\n",
              "         [5],\n",
              "         [7]]),\n",
              " tensor([], size=(4, 0), dtype=torch.int64))"
            ]
          },
          "metadata": {},
          "execution_count": 22
        }
      ]
    },
    {
      "cell_type": "markdown",
      "source": [
        "### Operações aritméticas\n",
        "\n",
        "- @ : calcula o produto interno. Multiplica cada elemento do tensor com elemento do outro tensor e soma todos  os resultados.\n",
        "\n",
        "- T: faz a transposição em tensores com mais de 1D: (l x c) -> (c x l)\n",
        "\n",
        "- torch.matmul: faz multiplicação entre dois tensores\n",
        "\n",
        "- torch.mul: faz multplicação entre dois tensores ou um tensor e um número"
      ],
      "metadata": {
        "id": "2jAcExsiQGxC"
      }
    },
    {
      "cell_type": "markdown",
      "source": [
        "**Multiplicação com \"@\"**"
      ],
      "metadata": {
        "id": "wTJNihrUVcqW"
      }
    },
    {
      "cell_type": "code",
      "source": [
        "y = torch.arange(10)\n",
        "y_t = y @ y\n",
        "print(y_t)"
      ],
      "metadata": {
        "colab": {
          "base_uri": "https://localhost:8080/"
        },
        "id": "SJbIsxZJQ1VW",
        "outputId": "c716cf9b-7666-4569-f346-e11477d228b2"
      },
      "execution_count": 23,
      "outputs": [
        {
          "output_type": "stream",
          "name": "stdout",
          "text": [
            "tensor(285)\n"
          ]
        }
      ]
    },
    {
      "cell_type": "code",
      "source": [
        "x = torch.tensor([[1,2,3],\n",
        "                 [4,5,6]])\n",
        "\n",
        "x_t = x @ x.T\n",
        "\n",
        "print(x_t)"
      ],
      "metadata": {
        "colab": {
          "base_uri": "https://localhost:8080/"
        },
        "id": "8n9LAotFRPIJ",
        "outputId": "bdfac47d-1488-4358-bd1e-3868f49f69db"
      },
      "execution_count": 24,
      "outputs": [
        {
          "output_type": "stream",
          "name": "stdout",
          "text": [
            "tensor([[14, 32],\n",
            "        [32, 77]])\n"
          ]
        }
      ]
    },
    {
      "cell_type": "markdown",
      "source": [
        "**Multiplicação com matmul**\n",
        "\n"
      ],
      "metadata": {
        "id": "LW3rIQ9HVtAO"
      }
    },
    {
      "cell_type": "code",
      "source": [
        "x_mt = x.matmul(x.T)\n",
        "print(x_mt)"
      ],
      "metadata": {
        "colab": {
          "base_uri": "https://localhost:8080/"
        },
        "id": "xvyHOipJUAwA",
        "outputId": "b3ed7d00-510f-476b-89e3-74ceec7d58ec"
      },
      "execution_count": 25,
      "outputs": [
        {
          "output_type": "stream",
          "name": "stdout",
          "text": [
            "tensor([[14, 32],\n",
            "        [32, 77]])\n"
          ]
        }
      ]
    },
    {
      "cell_type": "markdown",
      "source": [
        "**Multiplicação com mul**\n",
        "\n",
        "O método torch.mul aceita dois tensores podendo um deles ser transposto;\n",
        "\n",
        "O método tensor.mul não aceita tensores transpostos, sendo que nesse exemplo o método acessa diretamente o tensor, diferente do método anterior.\n",
        "\n",
        "O método mul permite multiplicar o tensor por um número.\n",
        "\n",
        "Quando passamos um tensor transposto o pytorch faz um broadcasting transformando virtualmente o tensor transposto no tensor original.\n",
        "\n",
        "\n",
        "Para evitar comportamento inesperado ou erro use o método **mul** com tensores com o mesmo formato."
      ],
      "metadata": {
        "id": "y57iDERVWjcz"
      }
    },
    {
      "cell_type": "code",
      "source": [
        "# comportamento inesperado -> realizou um broadcasting ou dará um erro\n",
        "# x_ml = torch.mul(x,x.T)\n",
        "# print(x_ml)"
      ],
      "metadata": {
        "id": "11xkvsEAWA2z"
      },
      "execution_count": 26,
      "outputs": []
    },
    {
      "cell_type": "code",
      "source": [
        "# melhor maneira de usar o método mul ou torch.mul\n",
        "x_ml = x.mul(x)\n",
        "print(x_ml)"
      ],
      "metadata": {
        "colab": {
          "base_uri": "https://localhost:8080/"
        },
        "id": "udc7nRwddFE2",
        "outputId": "f9be7eda-862c-44f4-d8ca-605d6bd79333"
      },
      "execution_count": 27,
      "outputs": [
        {
          "output_type": "stream",
          "name": "stdout",
          "text": [
            "tensor([[ 1,  4,  9],\n",
            "        [16, 25, 36]])\n"
          ]
        }
      ]
    },
    {
      "cell_type": "code",
      "source": [
        "# x_t = x.T\n",
        "# x_ml = x.mul(x_t)\n",
        "# print(x_ml)"
      ],
      "metadata": {
        "id": "2njMUPwGdm-Y"
      },
      "execution_count": 28,
      "outputs": []
    },
    {
      "cell_type": "markdown",
      "source": [
        "### Produto Escalar (inteno) x Produto de Matrizes\n",
        "\n",
        "- Produto escalar retorna apenas uma valor, é a soma do produto de cada elemento do vetor.\n",
        "\n",
        "- Produto de Matrizes retorna uma nova matriz com o resultado do produto de cada elemento do vetor."
      ],
      "metadata": {
        "id": "l23SJ8Oak3en"
      }
    },
    {
      "cell_type": "markdown",
      "source": [
        "### Visualização de Tensor (View)\n",
        "\n",
        "Altera o formato de um tensor sem alterar seus dados, sendo equivalente ao reshape, mas o reshape pode retornar um tensor diferente. Em caso de tensor contíguo o reshape cria uma cópia, enquanto que view lança um erro.\n",
        "\n",
        "O view não cria uma cópia dos dados, ele cria um novo tensor que aponta para a mesma memória.\n",
        "\n",
        "Número total de elementos deve ser igual: a multiplicação das novas dimensões deve ser igual ao número total de elementos do tensor original. Se tenho um tensor de 6 elementos, a multiplicação das dimensões deve resultar em 6: 3 x2 ou 2 x 3.\n",
        "\n",
        "O tensor contíguo é aquele os dados estã armazenados em único bloco contínuo de memória; não contíguo é aquele em que os dados estão armazenados em blocos diferentes na memória devido a operações de slicing (fatiamento) ou de transposição.\n",
        "\n",
        "Em caso de um tensor não contíguo, use o método *contíguos()* para criar uma cópia contígua do tensor."
      ],
      "metadata": {
        "id": "QCg98VQlowQk"
      }
    },
    {
      "cell_type": "code",
      "source": [
        "x = torch.randn(4,4)\n",
        "x.size()\n",
        "x"
      ],
      "metadata": {
        "colab": {
          "base_uri": "https://localhost:8080/"
        },
        "id": "q2ahPbdEk9kd",
        "outputId": "05bf5b7d-474e-4b0f-ca2c-26060b10b99f"
      },
      "execution_count": 29,
      "outputs": [
        {
          "output_type": "execute_result",
          "data": {
            "text/plain": [
              "tensor([[ 0.3877, -1.0979, -0.1212,  0.3867],\n",
              "        [ 0.9955,  1.8213, -1.4810,  0.0313],\n",
              "        [ 0.0887,  1.0984, -1.3427, -0.4186],\n",
              "        [ 1.1492,  0.0814, -0.3661,  1.6522]])"
            ]
          },
          "metadata": {},
          "execution_count": 29
        }
      ]
    },
    {
      "cell_type": "code",
      "source": [
        "y = x.view(16)\n",
        "print(y)\n",
        "print(y.size())"
      ],
      "metadata": {
        "colab": {
          "base_uri": "https://localhost:8080/"
        },
        "id": "ADgeSU2PpABG",
        "outputId": "13a9693d-f9dd-4333-fcb0-f3cab7193861"
      },
      "execution_count": 30,
      "outputs": [
        {
          "output_type": "stream",
          "name": "stdout",
          "text": [
            "tensor([ 0.3877, -1.0979, -0.1212,  0.3867,  0.9955,  1.8213, -1.4810,  0.0313,\n",
            "         0.0887,  1.0984, -1.3427, -0.4186,  1.1492,  0.0814, -0.3661,  1.6522])\n",
            "torch.Size([16])\n"
          ]
        }
      ]
    },
    {
      "cell_type": "code",
      "source": [
        "z = x.view(-1, 8) # -1 é uma dimensão coringa que será dada com base nas dimensões anteriores\n",
        "print(z)\n",
        "print(z.size())"
      ],
      "metadata": {
        "colab": {
          "base_uri": "https://localhost:8080/"
        },
        "id": "MCGzkGsWpHrz",
        "outputId": "cae1e3e1-56e5-47f0-bb31-e124c5b53216"
      },
      "execution_count": 31,
      "outputs": [
        {
          "output_type": "stream",
          "name": "stdout",
          "text": [
            "tensor([[ 0.3877, -1.0979, -0.1212,  0.3867,  0.9955,  1.8213, -1.4810,  0.0313],\n",
            "        [ 0.0887,  1.0984, -1.3427, -0.4186,  1.1492,  0.0814, -0.3661,  1.6522]])\n",
            "torch.Size([2, 8])\n"
          ]
        }
      ]
    },
    {
      "cell_type": "code",
      "source": [
        "h = x.reshape(-1,8)\n",
        "print(h.size())\n",
        "print(h)"
      ],
      "metadata": {
        "colab": {
          "base_uri": "https://localhost:8080/"
        },
        "id": "g6pjR0bCuueA",
        "outputId": "b131c2fe-929a-453c-d235-57a4eab5c4ca"
      },
      "execution_count": 36,
      "outputs": [
        {
          "output_type": "stream",
          "name": "stdout",
          "text": [
            "torch.Size([2, 8])\n",
            "tensor([[ 0.3877, -1.0979, -0.1212,  0.3867,  0.9955,  1.8213, -1.4810,  0.0313],\n",
            "        [ 0.0887,  1.0984, -1.3427, -0.4186,  1.1492,  0.0814, -0.3661,  1.6522]])\n"
          ]
        }
      ]
    }
  ]
}