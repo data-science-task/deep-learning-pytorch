{
  "nbformat": 4,
  "nbformat_minor": 0,
  "metadata": {
    "colab": {
      "provenance": [],
      "authorship_tag": "ABX9TyN2/A1WWgyU2YbDdoEaCCjk"
    },
    "kernelspec": {
      "name": "python3",
      "display_name": "Python 3"
    },
    "language_info": {
      "name": "python"
    }
  },
  "cells": [
    {
      "cell_type": "markdown",
      "source": [
        "### Importação do Pytorch e do Numpy"
      ],
      "metadata": {
        "id": "yhnh0Eq8-ehA"
      }
    },
    {
      "cell_type": "code",
      "execution_count": 1,
      "metadata": {
        "id": "R3a3ApwutO3j"
      },
      "outputs": [],
      "source": [
        "import torch\n",
        "import numpy as np"
      ]
    },
    {
      "cell_type": "markdown",
      "source": [
        "### Conversão de lista para tensor e tensor para array numpy"
      ],
      "metadata": {
        "id": "cH5K2rfD-XMv"
      }
    },
    {
      "cell_type": "code",
      "source": [
        "data = [[1, 2], [3, 4]]\n",
        "x_data = torch.tensor(data) # data: int64 | Tensor(data) # float32\n",
        "print(x_data)\n",
        "print(\"dtype: \", x_data.dtype)"
      ],
      "metadata": {
        "colab": {
          "base_uri": "https://localhost:8080/"
        },
        "id": "srQtP0A0uNPw",
        "outputId": "cb16c66d-a1f9-4a4e-e975-1fa3302ab7ee"
      },
      "execution_count": 2,
      "outputs": [
        {
          "output_type": "stream",
          "name": "stdout",
          "text": [
            "tensor([[1, 2],\n",
            "        [3, 4]])\n",
            "dtype:  torch.int64\n"
          ]
        }
      ]
    },
    {
      "cell_type": "code",
      "source": [
        "np_array = np.array(data)\n",
        "x_np = torch.from_numpy(np_array)"
      ],
      "metadata": {
        "id": "aGupGbWnuxtF"
      },
      "execution_count": 3,
      "outputs": []
    },
    {
      "cell_type": "markdown",
      "source": [
        "### Inicializando tensores\n",
        "\n",
        "- torch.ones_like: pode receber um tensor como entrada e novo tensor será gerado com o formato do tensor de entrada.\n",
        "\n",
        "- torch.ones: não permite receber um tensor como entrada e seu 1º argumento é o formato."
      ],
      "metadata": {
        "id": "fv71FSa1-Qmj"
      }
    },
    {
      "cell_type": "code",
      "source": [
        "x_ones = torch.ones_like(x_data)\n",
        "print(f\"Ones Tensor:\\n {x_ones} \\n\")"
      ],
      "metadata": {
        "colab": {
          "base_uri": "https://localhost:8080/"
        },
        "id": "XhdNCk6EvyP4",
        "outputId": "90b59c79-f55b-493f-e7c1-d2237326876d"
      },
      "execution_count": 4,
      "outputs": [
        {
          "output_type": "stream",
          "name": "stdout",
          "text": [
            "Ones Tensor:\n",
            " tensor([[1, 1],\n",
            "        [1, 1]]) \n",
            "\n"
          ]
        }
      ]
    },
    {
      "cell_type": "code",
      "source": [
        "x_rand = torch.rand_like(x_data, dtype=torch.float)\n",
        "print(f\"Random Tensor: \\n {x_rand} \\n\")"
      ],
      "metadata": {
        "colab": {
          "base_uri": "https://localhost:8080/"
        },
        "id": "XzCny0Zsw-8Z",
        "outputId": "31a77ab7-9348-4ccf-beb3-c58bad8c46b5"
      },
      "execution_count": 5,
      "outputs": [
        {
          "output_type": "stream",
          "name": "stdout",
          "text": [
            "Random Tensor: \n",
            " tensor([[0.4527, 0.8939],\n",
            "        [0.5870, 0.2522]]) \n",
            "\n"
          ]
        }
      ]
    },
    {
      "cell_type": "code",
      "source": [
        "shape = (2,3)\n",
        "rand_tensor = torch.rand(shape)\n",
        "ones_tensor = torch.ones(shape)\n",
        "zeros_tensor = torch.zeros(shape)\n",
        "\n",
        "print(f\"Random Tensor: \\n {rand_tensor} \\n\")\n",
        "print(f\"Ones Tensor: \\n {ones_tensor} \\n\")\n",
        "print(f\"Zeros Tensor: \\n {zeros_tensor}\")"
      ],
      "metadata": {
        "colab": {
          "base_uri": "https://localhost:8080/"
        },
        "id": "j-seARpfx8Ct",
        "outputId": "641bdaac-20c1-4178-b3d0-31713ea2063b"
      },
      "execution_count": 6,
      "outputs": [
        {
          "output_type": "stream",
          "name": "stdout",
          "text": [
            "Random Tensor: \n",
            " tensor([[0.4001, 0.1650, 0.1044],\n",
            "        [0.8915, 0.7654, 0.9502]]) \n",
            "\n",
            "Ones Tensor: \n",
            " tensor([[1., 1., 1.],\n",
            "        [1., 1., 1.]]) \n",
            "\n",
            "Zeros Tensor: \n",
            " tensor([[0., 0., 0.],\n",
            "        [0., 0., 0.]])\n"
          ]
        }
      ]
    },
    {
      "cell_type": "markdown",
      "source": [
        "### Exibição das informações dos tensores"
      ],
      "metadata": {
        "id": "ZRSoYoN998Ea"
      }
    },
    {
      "cell_type": "code",
      "source": [
        "tensor = torch.rand(3, 4)\n",
        "print(f\"Shape of tensor: {tensor.shape}\") # formato: linhas e/ou colunas\n",
        "print(f\"Datatype of tensor: {tensor.dtype}\") # tipo de dado\n",
        "print(f\"Device tensor is stored on: {tensor.device}\") # dispositivo de armazenamento"
      ],
      "metadata": {
        "colab": {
          "base_uri": "https://localhost:8080/"
        },
        "id": "Z4x4Tw3JysS3",
        "outputId": "b02858c9-361a-4046-f948-8dde1ceafe87"
      },
      "execution_count": 7,
      "outputs": [
        {
          "output_type": "stream",
          "name": "stdout",
          "text": [
            "Shape of tensor: torch.Size([3, 4])\n",
            "Datatype of tensor: torch.float32\n",
            "Device tensor is stored on: cpu\n"
          ]
        }
      ]
    },
    {
      "cell_type": "markdown",
      "source": [
        "### Troca de dispositivo de processamento"
      ],
      "metadata": {
        "id": "sv8Dhjdt99rT"
      }
    },
    {
      "cell_type": "code",
      "source": [
        "if torch.cuda.is_available():\n",
        "  tensor = tensor.to(\"cuda\")\n",
        "else:\n",
        "  print(tensor.device)"
      ],
      "metadata": {
        "id": "OK-NBD3BzDUh",
        "colab": {
          "base_uri": "https://localhost:8080/"
        },
        "outputId": "9dec8731-d5df-463e-a35e-70b5e531088d"
      },
      "execution_count": 8,
      "outputs": [
        {
          "output_type": "stream",
          "name": "stdout",
          "text": [
            "cpu\n"
          ]
        }
      ]
    },
    {
      "cell_type": "markdown",
      "source": [
        "### Técnica de fatiamento"
      ],
      "metadata": {
        "id": "494FqgaX-kT1"
      }
    },
    {
      "cell_type": "code",
      "source": [
        "tensor = torch.ones(4,4)\n",
        "print(f\"First row: {tensor[0]}\")\n",
        "print(f\"First column: {tensor[:,0]}\")\n",
        "print(f\"Last column: {tensor[...,-1]}\")\n",
        "tensor[..., -1] = 0\n",
        "print(tensor)"
      ],
      "metadata": {
        "colab": {
          "base_uri": "https://localhost:8080/"
        },
        "id": "Jv69WmH-4CSB",
        "outputId": "1c681bb5-0a4d-4813-f95b-0335ccfc2b62"
      },
      "execution_count": 9,
      "outputs": [
        {
          "output_type": "stream",
          "name": "stdout",
          "text": [
            "First row: tensor([1., 1., 1., 1.])\n",
            "First column: tensor([1., 1., 1., 1.])\n",
            "Last column: tensor([1., 1., 1., 1.])\n",
            "tensor([[1., 1., 1., 0.],\n",
            "        [1., 1., 1., 0.],\n",
            "        [1., 1., 1., 0.],\n",
            "        [1., 1., 1., 0.]])\n"
          ]
        }
      ]
    },
    {
      "cell_type": "markdown",
      "source": [
        "### Exercício"
      ],
      "metadata": {
        "id": "J4sUMaN_8ZQe"
      }
    },
    {
      "cell_type": "code",
      "source": [
        "tns = torch.randn(9,12)\n",
        "tns1 = tns[0:5, 0:4]\n",
        "tns2 = tns[5:, 4:]\n",
        "\n",
        "resultado = torch.mm(tns1, tns2)\n",
        "print(resultado.size())"
      ],
      "metadata": {
        "colab": {
          "base_uri": "https://localhost:8080/"
        },
        "id": "RpfQFZHJ5Gkj",
        "outputId": "b3efd832-51cf-4870-e7d5-5f547d9f3c1c"
      },
      "execution_count": 10,
      "outputs": [
        {
          "output_type": "stream",
          "name": "stdout",
          "text": [
            "torch.Size([5, 8])\n"
          ]
        }
      ]
    },
    {
      "cell_type": "code",
      "source": [
        "data1 = [[1,2], [3,4]]\n",
        "data2 = [[5,6],[7,8]]\n",
        "data3 = [[9,10], [11,12]]\n",
        "\n",
        "tns1 = torch.tensor(data1)\n",
        "tns2 = torch.tensor(data2)\n",
        "tns3 = torch.tensor(data3)\n",
        "\n",
        "tns_stack = torch.stack([tns1, tns2, tns3]) # concatena uma sequência de tensores\n",
        "print(tns_stack)"
      ],
      "metadata": {
        "colab": {
          "base_uri": "https://localhost:8080/"
        },
        "id": "hslVY3yu8zpx",
        "outputId": "42c915c3-c757-4822-95fc-97c6a2e71f2b"
      },
      "execution_count": 34,
      "outputs": [
        {
          "output_type": "stream",
          "name": "stdout",
          "text": [
            "tensor([[[ 1,  2],\n",
            "         [ 3,  4]],\n",
            "\n",
            "        [[ 5,  6],\n",
            "         [ 7,  8]],\n",
            "\n",
            "        [[ 9, 10],\n",
            "         [11, 12]]])\n"
          ]
        }
      ]
    },
    {
      "cell_type": "code",
      "source": [
        "t1_t2 = torch.mm(tns1,tns2)\n",
        "print(t1_t2)"
      ],
      "metadata": {
        "colab": {
          "base_uri": "https://localhost:8080/"
        },
        "id": "useiOGm7HB66",
        "outputId": "9ac5f378-501f-49fd-f844-b145dc40a2fb"
      },
      "execution_count": 12,
      "outputs": [
        {
          "output_type": "stream",
          "name": "stdout",
          "text": [
            "tensor([[19, 22],\n",
            "        [43, 50]])\n"
          ]
        }
      ]
    },
    {
      "cell_type": "code",
      "source": [
        "t1_t2_t3 = torch.mm(t1_t2, tns3)\n",
        "print(t1_t2_t3)"
      ],
      "metadata": {
        "colab": {
          "base_uri": "https://localhost:8080/"
        },
        "id": "i5hFCFV2Jsv1",
        "outputId": "c1aa3baa-ba91-4531-cbe9-5ee7999d0edb"
      },
      "execution_count": 13,
      "outputs": [
        {
          "output_type": "stream",
          "name": "stdout",
          "text": [
            "tensor([[ 413,  454],\n",
            "        [ 937, 1030]])\n"
          ]
        }
      ]
    },
    {
      "cell_type": "code",
      "source": [
        "x = torch.randn(2,3)\n",
        "print(x)"
      ],
      "metadata": {
        "id": "oBfxLhNyJ3AJ",
        "colab": {
          "base_uri": "https://localhost:8080/"
        },
        "outputId": "ab292430-1357-4b00-ad0f-7ce582533042"
      },
      "execution_count": 20,
      "outputs": [
        {
          "output_type": "stream",
          "name": "stdout",
          "text": [
            "tensor([[-1.6671,  1.0185, -1.1639],\n",
            "        [-1.5679, -0.4071, -0.8607]])\n"
          ]
        }
      ]
    },
    {
      "cell_type": "markdown",
      "source": [
        "### Concatenação de Tensores"
      ],
      "metadata": {
        "id": "KkOJG8L29xwz"
      }
    },
    {
      "cell_type": "code",
      "source": [
        "# dim = 0 -> tensores concatenados na 1D (linha)\n",
        "x_cat = torch.cat((x,x,x),0)\n",
        "print(x_cat) # shape(6,3)\n",
        "\n",
        "# dim = 1 -> tensores concatenados na 2D (coluna)\n",
        "x_cat_n = torch.cat((x, x, x), 1)\n",
        "print(x_cat_n) # shape(2,9)\n",
        "\n",
        "# para tensores 3D a dimensão pode ser: 0, 1, 2\n",
        "# para tensores multidimensionais a dimensão pode assumir qualquer valor\n",
        "\n",
        "# o argumento out é indicado quando temos um tensor novo (vazio)\n",
        "# para armazenar o novo tensor retornado pelo método\n",
        "\n",
        "# para criar um tensor vazio temos o método: torch.empty(nl, nc)"
      ],
      "metadata": {
        "colab": {
          "base_uri": "https://localhost:8080/"
        },
        "id": "wNfKWgcW4Ny7",
        "outputId": "7d8f8557-9887-4dea-82c2-c9040f02282d"
      },
      "execution_count": 33,
      "outputs": [
        {
          "output_type": "stream",
          "name": "stdout",
          "text": [
            "tensor([[-1.6671,  1.0185, -1.1639],\n",
            "        [-1.5679, -0.4071, -0.8607],\n",
            "        [-1.6671,  1.0185, -1.1639],\n",
            "        [-1.5679, -0.4071, -0.8607],\n",
            "        [-1.6671,  1.0185, -1.1639],\n",
            "        [-1.5679, -0.4071, -0.8607]])\n",
            "tensor([[-1.6671,  1.0185, -1.1639, -1.6671,  1.0185, -1.1639, -1.6671,  1.0185,\n",
            "         -1.1639],\n",
            "        [-1.5679, -0.4071, -0.8607, -1.5679, -0.4071, -0.8607, -1.5679, -0.4071,\n",
            "         -0.8607]])\n"
          ]
        }
      ]
    },
    {
      "cell_type": "markdown",
      "source": [
        "### Divisão de tensores\n",
        "\n",
        "- split: tamanhos\n",
        "- chunks: pedaços\n",
        "- tensor_split: subtensores"
      ],
      "metadata": {
        "id": "RQMpWQUL-qIx"
      }
    },
    {
      "cell_type": "code",
      "source": [
        "tensor = torch.arange(10)\n",
        "print(tensor)"
      ],
      "metadata": {
        "colab": {
          "base_uri": "https://localhost:8080/"
        },
        "id": "AdQ2m8fT6gI6",
        "outputId": "a7f9cb8c-a422-433f-c175-a1491f7e851a"
      },
      "execution_count": 48,
      "outputs": [
        {
          "output_type": "stream",
          "name": "stdout",
          "text": [
            "tensor([0, 1, 2, 3, 4, 5, 6, 7, 8, 9])\n"
          ]
        }
      ]
    },
    {
      "cell_type": "markdown",
      "source": [
        "**Método split**\n",
        "\n",
        "Controle sobre o tamanho dos pedaços"
      ],
      "metadata": {
        "id": "y_Koui77Gj6e"
      }
    },
    {
      "cell_type": "code",
      "source": [
        "# c / chunk terá tamanho igual, exceto o último se não for divisível pelo tamanho (split_size)\n",
        "chunks = torch.split(tensor,3)\n",
        "for i, chunk in enumerate(chunks):\n",
        "  print(f\"Chunk {i}: {chunk} e {chunk.size()}\")"
      ],
      "metadata": {
        "colab": {
          "base_uri": "https://localhost:8080/"
        },
        "id": "bWYX9MD6-0dM",
        "outputId": "352ec618-9c50-4036-f114-2f77a9461ec8"
      },
      "execution_count": 56,
      "outputs": [
        {
          "output_type": "stream",
          "name": "stdout",
          "text": [
            "Chunk 0: tensor([0, 1, 2]) e torch.Size([3])\n",
            "Chunk 1: tensor([3, 4, 5]) e torch.Size([3])\n",
            "Chunk 2: tensor([6, 7, 8]) e torch.Size([3])\n",
            "Chunk 3: tensor([9]) e torch.Size([1])\n"
          ]
        }
      ]
    },
    {
      "cell_type": "code",
      "source": [
        "# c / chunk terá tamanho diferente (sections)\n",
        "chunks = torch.split(tensor,[4, 2, 4])\n",
        "for i, chunk in enumerate(chunks):\n",
        "  print(f\"Chunk {i}: {chunk} e {chunk.size()}\")"
      ],
      "metadata": {
        "colab": {
          "base_uri": "https://localhost:8080/"
        },
        "id": "H-5BTLCpALlk",
        "outputId": "cc5d4093-2eb7-415b-a4c8-a7db0f34ff24"
      },
      "execution_count": 57,
      "outputs": [
        {
          "output_type": "stream",
          "name": "stdout",
          "text": [
            "Chunk 0: tensor([0, 1, 2, 3]) e torch.Size([4])\n",
            "Chunk 1: tensor([4, 5]) e torch.Size([2])\n",
            "Chunk 2: tensor([6, 7, 8, 9]) e torch.Size([4])\n"
          ]
        }
      ]
    },
    {
      "cell_type": "markdown",
      "source": [
        "**Método chunk**\n",
        "\n",
        "Controle sobre a quantidade de pedaços. Não aceita lista ou tupla como argumento"
      ],
      "metadata": {
        "id": "3t1XPTV6GpE8"
      }
    },
    {
      "cell_type": "code",
      "source": [
        "# dividiu o tensor em 6 partes iguais\n",
        "torch.arange(12).chunk(6)"
      ],
      "metadata": {
        "colab": {
          "base_uri": "https://localhost:8080/"
        },
        "id": "0mYVZNxTFKFz",
        "outputId": "1221e824-f64c-4600-d7ac-6bb84fc38c81"
      },
      "execution_count": 59,
      "outputs": [
        {
          "output_type": "execute_result",
          "data": {
            "text/plain": [
              "(tensor([0, 1]),\n",
              " tensor([2, 3]),\n",
              " tensor([4, 5]),\n",
              " tensor([6, 7]),\n",
              " tensor([8, 9]),\n",
              " tensor([10, 11]))"
            ]
          },
          "metadata": {},
          "execution_count": 59
        }
      ]
    },
    {
      "cell_type": "code",
      "source": [
        "# dividiu o tensor em 5 partes iguais e 1 diferente\n",
        "torch.arange(11).chunk(6)"
      ],
      "metadata": {
        "colab": {
          "base_uri": "https://localhost:8080/"
        },
        "id": "IfBdsEDBG6c0",
        "outputId": "1286dbcf-06db-42e0-814f-683663d4b73b"
      },
      "execution_count": 61,
      "outputs": [
        {
          "output_type": "execute_result",
          "data": {
            "text/plain": [
              "(tensor([0, 1]),\n",
              " tensor([2, 3]),\n",
              " tensor([4, 5]),\n",
              " tensor([6, 7]),\n",
              " tensor([8, 9]),\n",
              " tensor([10]))"
            ]
          },
          "metadata": {},
          "execution_count": 61
        }
      ]
    },
    {
      "cell_type": "markdown",
      "source": [
        "**Método torch.tensor_split**\n",
        "\n",
        "Controle sobre a quantidade de pedaços, contudo aceita lista ou tupla sendo que diferente do torch.split a lista ou a tupla receberá em qual índice inicia o corte respeitando a regra:\n",
        "- antes do índice especificado\n",
        "- entre os índices especifiados\n",
        "- após o índice especificado\n",
        "- exemplo: (1,6)\n",
        "    - antes do índice 1\n",
        "    - entre índice 1 a 6\n",
        "    - após o índice 6\n",
        "\n",
        "No caso do torch.split, a lista ou a tupla especifica o tamanho de cada pedaço"
      ],
      "metadata": {
        "id": "2UQ4xIwbOEgK"
      }
    },
    {
      "cell_type": "code",
      "source": [
        "x = torch.arange(8).reshape(4,2)\n",
        "torch.tensor_split(x, 3)\n",
        "\n",
        "# torch.tensor_split(tns, index_or_sections, dim)\n",
        "# index_or_sections é diferente de split_size_or_section"
      ],
      "metadata": {
        "colab": {
          "base_uri": "https://localhost:8080/"
        },
        "id": "eDUUQmPwHDpj",
        "outputId": "42eb505f-e266-4d7f-c912-cf2e280bf2cb"
      },
      "execution_count": 78,
      "outputs": [
        {
          "output_type": "execute_result",
          "data": {
            "text/plain": [
              "(tensor([[0, 1],\n",
              "         [2, 3]]),\n",
              " tensor([[4, 5]]),\n",
              " tensor([[6, 7]]))"
            ]
          },
          "metadata": {},
          "execution_count": 78
        }
      ]
    },
    {
      "cell_type": "code",
      "source": [
        "torch.tensor_split(x, 3, 1)"
      ],
      "metadata": {
        "colab": {
          "base_uri": "https://localhost:8080/"
        },
        "id": "-vqGiDv-I5yE",
        "outputId": "5dde935f-6f49-4c16-d141-b201f2716a39"
      },
      "execution_count": 79,
      "outputs": [
        {
          "output_type": "execute_result",
          "data": {
            "text/plain": [
              "(tensor([[0],\n",
              "         [2],\n",
              "         [4],\n",
              "         [6]]),\n",
              " tensor([[1],\n",
              "         [3],\n",
              "         [5],\n",
              "         [7]]),\n",
              " tensor([], size=(4, 0), dtype=torch.int64))"
            ]
          },
          "metadata": {},
          "execution_count": 79
        }
      ]
    },
    {
      "cell_type": "markdown",
      "source": [
        "### Operações aritméticas\n",
        "\n",
        "- @ : calcula o produto interno. Multiplica cada elemento do tensor com elemento do outro tensor e soma todos  os resultados.\n",
        "\n",
        "- T: faz a transposição em tensores com mais de 1D: (l x c) -> (c x l)\n",
        "\n",
        "- torch.matmul: faz multiplicação entre dois tensores\n",
        "\n",
        "- torch.mul: faz multplicação entre dois tensores ou um tensor e um número"
      ],
      "metadata": {
        "id": "2jAcExsiQGxC"
      }
    },
    {
      "cell_type": "markdown",
      "source": [
        "**Multiplicação com \"@\"**"
      ],
      "metadata": {
        "id": "wTJNihrUVcqW"
      }
    },
    {
      "cell_type": "code",
      "source": [
        "y = torch.arange(10)\n",
        "y_t = y @ y\n",
        "print(y_t)"
      ],
      "metadata": {
        "colab": {
          "base_uri": "https://localhost:8080/"
        },
        "id": "SJbIsxZJQ1VW",
        "outputId": "e1865648-ede4-4562-fb5f-4b7879cce847"
      },
      "execution_count": 90,
      "outputs": [
        {
          "output_type": "stream",
          "name": "stdout",
          "text": [
            "tensor(285)\n"
          ]
        }
      ]
    },
    {
      "cell_type": "code",
      "source": [
        "x = torch.tensor([[1,2,3],\n",
        "                 [4,5,6]])\n",
        "\n",
        "x_t = x @ x.T\n",
        "\n",
        "print(x_t)"
      ],
      "metadata": {
        "colab": {
          "base_uri": "https://localhost:8080/"
        },
        "id": "8n9LAotFRPIJ",
        "outputId": "7d135542-98cb-4dc2-d084-b138081c7168"
      },
      "execution_count": 99,
      "outputs": [
        {
          "output_type": "stream",
          "name": "stdout",
          "text": [
            "tensor([[14, 32],\n",
            "        [32, 77]])\n"
          ]
        }
      ]
    },
    {
      "cell_type": "markdown",
      "source": [
        "**Multiplicação com matmul**\n",
        "\n"
      ],
      "metadata": {
        "id": "LW3rIQ9HVtAO"
      }
    },
    {
      "cell_type": "code",
      "source": [
        "x_mt = x.matmul(x.T)\n",
        "print(x_mt)"
      ],
      "metadata": {
        "colab": {
          "base_uri": "https://localhost:8080/"
        },
        "id": "xvyHOipJUAwA",
        "outputId": "c3ed4ebe-2e48-4b03-97e3-bead1c585a50"
      },
      "execution_count": 88,
      "outputs": [
        {
          "output_type": "stream",
          "name": "stdout",
          "text": [
            "tensor([[14, 32],\n",
            "        [32, 77]])\n"
          ]
        }
      ]
    },
    {
      "cell_type": "markdown",
      "source": [
        "**Multiplicação com mul**\n",
        "\n",
        "O método torch.mul aceita dois tensores podendo um deles ser transposto;\n",
        "\n",
        "O método tensor.mul não aceita tensores transpostos, sendo que nesse exemplo o método acessa diretamente o tensor, diferente do método anterior.\n",
        "\n",
        "O método mul permite multiplicar o tensor por um número.\n",
        "\n",
        "Quando passamos um tensor transposto o pytorch faz um broadcasting transformando virtualmente o tensor transposto no tensor original.\n",
        "\n",
        "\n",
        "Para evitar comportamento inesperado ou erro use o método **mul** com tensores com o mesmo formato."
      ],
      "metadata": {
        "id": "y57iDERVWjcz"
      }
    },
    {
      "cell_type": "code",
      "source": [
        "# comportamento inesperado -> realizou um broadcasting ou dará um erro\n",
        "# x_ml = torch.mul(x,x.T)\n",
        "# print(x_ml)"
      ],
      "metadata": {
        "id": "11xkvsEAWA2z"
      },
      "execution_count": 106,
      "outputs": []
    },
    {
      "cell_type": "code",
      "source": [
        "# melhor maneira de usar o método mul ou torch.mul\n",
        "x_ml = x.mul(x)\n",
        "print(x_ml)"
      ],
      "metadata": {
        "colab": {
          "base_uri": "https://localhost:8080/"
        },
        "id": "udc7nRwddFE2",
        "outputId": "3455c2c5-4b0c-4af5-b929-964496b9460f"
      },
      "execution_count": 107,
      "outputs": [
        {
          "output_type": "stream",
          "name": "stdout",
          "text": [
            "tensor([[ 1,  4,  9],\n",
            "        [16, 25, 36]])\n"
          ]
        }
      ]
    },
    {
      "cell_type": "code",
      "source": [
        "# x_t = x.T\n",
        "# x_ml = x.mul(x_t)\n",
        "# print(x_ml)"
      ],
      "metadata": {
        "id": "2njMUPwGdm-Y"
      },
      "execution_count": 103,
      "outputs": []
    },
    {
      "cell_type": "markdown",
      "source": [
        "### Produto Escalar (inteno) x Produto de Matrizes\n",
        "\n",
        "- Produto escalar retorna apenas uma valor, é a soma do produto de cada elemento do vetor.\n",
        "\n",
        "- Produto de Matrizes retorna uma nova matriz com o resultado do produto de cada elemento do vetor."
      ],
      "metadata": {
        "id": "l23SJ8Oak3en"
      }
    },
    {
      "cell_type": "markdown",
      "source": [
        "### Visualização de Tensor (View)\n",
        "\n",
        "Altera o formato de um tensor sem alterar seus dados, sendo equivalente ao reshape, mas o reshape pode retornar um tensor diferente. Em caso de tensor contíguo o reshape cria uma cópia, enquanto que view lança um erro.\n",
        "\n",
        "O view não cria uma cópia dos dados, ele cria um novo tensor que aponta para a mesma memória.\n",
        "\n",
        "Número total de elementos deve ser igual: a multiplicação das novas dimensões deve ser igual ao número total de elementos do tensor original. Se tenho um tensor de 6 elementos, a multiplicação das dimensões deve resultar em 6: 3 x2 ou 2 x 3.\n",
        "\n",
        "O tensor contíguo é aquele os dados estã armazenados em único bloco contínuo de memória; não contíguo é aquele em que os dados estão armazenados em blocos diferentes na memória devido a operações de slicing (fatiamento) ou de transposição.\n",
        "\n",
        "Em caso de um tensor não contíguo, use o método *contíguos()* para criar uma cópia contígua do tensor."
      ],
      "metadata": {
        "id": "QCg98VQlowQk"
      }
    },
    {
      "cell_type": "code",
      "source": [
        "x = torch.randn(4,4)\n",
        "x.size()\n",
        "x"
      ],
      "metadata": {
        "colab": {
          "base_uri": "https://localhost:8080/"
        },
        "id": "q2ahPbdEk9kd",
        "outputId": "773d646c-0e2d-44fb-b89e-4b552b2003f0"
      },
      "execution_count": 111,
      "outputs": [
        {
          "output_type": "execute_result",
          "data": {
            "text/plain": [
              "tensor([[-0.0102,  0.4515, -0.4744, -0.8770],\n",
              "        [ 1.7090,  1.5843,  1.3126, -1.8868],\n",
              "        [ 0.2986,  0.3030,  0.6211, -0.2542],\n",
              "        [ 1.2566, -0.0270, -0.0995, -1.6356]])"
            ]
          },
          "metadata": {},
          "execution_count": 111
        }
      ]
    },
    {
      "cell_type": "code",
      "source": [
        "y = x.view(16)\n",
        "print(y)\n",
        "print(y.size())"
      ],
      "metadata": {
        "colab": {
          "base_uri": "https://localhost:8080/"
        },
        "id": "ADgeSU2PpABG",
        "outputId": "bcf49393-55a4-41f4-de08-375d222089ff"
      },
      "execution_count": 122,
      "outputs": [
        {
          "output_type": "stream",
          "name": "stdout",
          "text": [
            "tensor([-0.0102,  0.4515, -0.4744, -0.8770,  1.7090,  1.5843,  1.3126, -1.8868,\n",
            "         0.2986,  0.3030,  0.6211, -0.2542,  1.2566, -0.0270, -0.0995, -1.6356])\n",
            "torch.Size([16])\n"
          ]
        }
      ]
    },
    {
      "cell_type": "code",
      "source": [
        "z = x.view(-1, 8) # -1 é uma dimensão coringa que será dada com base nas dimensões anteriores\n",
        "print(z)\n",
        "print(z.size())"
      ],
      "metadata": {
        "colab": {
          "base_uri": "https://localhost:8080/"
        },
        "id": "MCGzkGsWpHrz",
        "outputId": "bd6356dc-688c-4ff0-df73-9151b356b72c"
      },
      "execution_count": 123,
      "outputs": [
        {
          "output_type": "stream",
          "name": "stdout",
          "text": [
            "tensor([[-0.0102,  0.4515, -0.4744, -0.8770,  1.7090,  1.5843,  1.3126, -1.8868],\n",
            "        [ 0.2986,  0.3030,  0.6211, -0.2542,  1.2566, -0.0270, -0.0995, -1.6356]])\n",
            "torch.Size([2, 8])\n"
          ]
        }
      ]
    }
  ]
}