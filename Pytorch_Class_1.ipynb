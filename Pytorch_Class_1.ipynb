{
  "nbformat": 4,
  "nbformat_minor": 0,
  "metadata": {
    "colab": {
      "provenance": [],
      "authorship_tag": "ABX9TyOqGXIRN+erDXE/3cKi99qP"
    },
    "kernelspec": {
      "name": "python3",
      "display_name": "Python 3"
    },
    "language_info": {
      "name": "python"
    }
  },
  "cells": [
    {
      "cell_type": "markdown",
      "source": [
        "### Importação do Pytorch e do Numpy"
      ],
      "metadata": {
        "id": "yhnh0Eq8-ehA"
      }
    },
    {
      "cell_type": "code",
      "execution_count": 1,
      "metadata": {
        "id": "R3a3ApwutO3j"
      },
      "outputs": [],
      "source": [
        "import torch\n",
        "import numpy as np"
      ]
    },
    {
      "cell_type": "markdown",
      "source": [
        "### Conversão de lista para tensor e tensor para array numpy"
      ],
      "metadata": {
        "id": "cH5K2rfD-XMv"
      }
    },
    {
      "cell_type": "code",
      "source": [
        "data = [[1, 2], [3, 4]]\n",
        "x_data = torch.tensor(data) # data: int64 | Tensor(data) # float32\n",
        "print(x_data)\n",
        "print(\"dtype: \", x_data.dtype)"
      ],
      "metadata": {
        "colab": {
          "base_uri": "https://localhost:8080/"
        },
        "id": "srQtP0A0uNPw",
        "outputId": "2047472a-9ce7-456b-cce5-bf5a9fa77073"
      },
      "execution_count": 2,
      "outputs": [
        {
          "output_type": "stream",
          "name": "stdout",
          "text": [
            "tensor([[1, 2],\n",
            "        [3, 4]])\n",
            "dtype:  torch.int64\n"
          ]
        }
      ]
    },
    {
      "cell_type": "code",
      "source": [
        "np_array = np.array(data)\n",
        "x_np = torch.from_numpy(np_array)"
      ],
      "metadata": {
        "id": "aGupGbWnuxtF"
      },
      "execution_count": 3,
      "outputs": []
    },
    {
      "cell_type": "markdown",
      "source": [
        "### Inicializando tensores\n",
        "\n",
        "- torch.ones_like: pode receber um tensor como entrada e novo tensor será gerado com o formato do tensor de entrada.\n",
        "\n",
        "- torch.ones: não permite receber um tensor como entrada e seu 1º argumento é o formato."
      ],
      "metadata": {
        "id": "fv71FSa1-Qmj"
      }
    },
    {
      "cell_type": "code",
      "source": [
        "x_ones = torch.ones_like(x_data)\n",
        "print(f\"Ones Tensor:\\n {x_ones} \\n\")"
      ],
      "metadata": {
        "colab": {
          "base_uri": "https://localhost:8080/"
        },
        "id": "XhdNCk6EvyP4",
        "outputId": "efe52745-a75a-491b-e626-cd51dea697f4"
      },
      "execution_count": 4,
      "outputs": [
        {
          "output_type": "stream",
          "name": "stdout",
          "text": [
            "Ones Tensor:\n",
            " tensor([[1, 1],\n",
            "        [1, 1]]) \n",
            "\n"
          ]
        }
      ]
    },
    {
      "cell_type": "code",
      "source": [
        "x_rand = torch.rand_like(x_data, dtype=torch.float)\n",
        "print(f\"Random Tensor: \\n {x_rand} \\n\")"
      ],
      "metadata": {
        "colab": {
          "base_uri": "https://localhost:8080/"
        },
        "id": "XzCny0Zsw-8Z",
        "outputId": "77bfde4a-d428-4624-ec32-036936bd7ea8"
      },
      "execution_count": 5,
      "outputs": [
        {
          "output_type": "stream",
          "name": "stdout",
          "text": [
            "Random Tensor: \n",
            " tensor([[0.0632, 0.1358],\n",
            "        [0.5954, 0.5171]]) \n",
            "\n"
          ]
        }
      ]
    },
    {
      "cell_type": "code",
      "source": [
        "shape = (2,3)\n",
        "rand_tensor = torch.rand(shape)\n",
        "ones_tensor = torch.ones(shape)\n",
        "zeros_tensor = torch.zeros(shape)\n",
        "\n",
        "print(f\"Random Tensor: \\n {rand_tensor} \\n\")\n",
        "print(f\"Ones Tensor: \\n {ones_tensor} \\n\")\n",
        "print(f\"Zeros Tensor: \\n {zeros_tensor}\")"
      ],
      "metadata": {
        "colab": {
          "base_uri": "https://localhost:8080/"
        },
        "id": "j-seARpfx8Ct",
        "outputId": "122a0d2a-f33e-4bc2-f458-4ec80b7b6019"
      },
      "execution_count": 6,
      "outputs": [
        {
          "output_type": "stream",
          "name": "stdout",
          "text": [
            "Random Tensor: \n",
            " tensor([[0.3156, 0.1234, 0.7348],\n",
            "        [0.7252, 0.1472, 0.3414]]) \n",
            "\n",
            "Ones Tensor: \n",
            " tensor([[1., 1., 1.],\n",
            "        [1., 1., 1.]]) \n",
            "\n",
            "Zeros Tensor: \n",
            " tensor([[0., 0., 0.],\n",
            "        [0., 0., 0.]])\n"
          ]
        }
      ]
    },
    {
      "cell_type": "markdown",
      "source": [
        "### Exibição das informações dos tensores"
      ],
      "metadata": {
        "id": "ZRSoYoN998Ea"
      }
    },
    {
      "cell_type": "code",
      "source": [
        "tensor = torch.rand(3, 4)\n",
        "print(f\"Shape of tensor: {tensor.shape}\") # formato: linhas e/ou colunas\n",
        "print(f\"Datatype of tensor: {tensor.dtype}\") # tipo de dado\n",
        "print(f\"Device tensor is stored on: {tensor.device}\") # dispositivo de armazenamento"
      ],
      "metadata": {
        "colab": {
          "base_uri": "https://localhost:8080/"
        },
        "id": "Z4x4Tw3JysS3",
        "outputId": "ad996c8a-6198-46a8-c706-d0306151ad5f"
      },
      "execution_count": 7,
      "outputs": [
        {
          "output_type": "stream",
          "name": "stdout",
          "text": [
            "Shape of tensor: torch.Size([3, 4])\n",
            "Datatype of tensor: torch.float32\n",
            "Device tensor is stored on: cpu\n"
          ]
        }
      ]
    },
    {
      "cell_type": "markdown",
      "source": [
        "### Troca de dispositivo de processamento"
      ],
      "metadata": {
        "id": "sv8Dhjdt99rT"
      }
    },
    {
      "cell_type": "code",
      "source": [
        "if torch.cuda.is_available():\n",
        "  tensor = tensor.to(\"cuda\")\n",
        "else:\n",
        "  print(tensor.device)"
      ],
      "metadata": {
        "id": "OK-NBD3BzDUh",
        "colab": {
          "base_uri": "https://localhost:8080/"
        },
        "outputId": "520c35e8-ab5b-4700-dadd-81b26e7030ad"
      },
      "execution_count": 8,
      "outputs": [
        {
          "output_type": "stream",
          "name": "stdout",
          "text": [
            "cpu\n"
          ]
        }
      ]
    },
    {
      "cell_type": "markdown",
      "source": [
        "### Técnica de fatiamento"
      ],
      "metadata": {
        "id": "494FqgaX-kT1"
      }
    },
    {
      "cell_type": "code",
      "source": [
        "tensor = torch.ones(4,4)\n",
        "print(f\"First row: {tensor[0]}\")\n",
        "print(f\"First column: {tensor[:,0]}\")\n",
        "print(f\"Last column: {tensor[...,-1]}\")\n",
        "tensor[..., -1] = 0\n",
        "print(tensor)"
      ],
      "metadata": {
        "colab": {
          "base_uri": "https://localhost:8080/"
        },
        "id": "Jv69WmH-4CSB",
        "outputId": "8c3310b6-cce9-490c-a637-5bc1910f65f0"
      },
      "execution_count": 9,
      "outputs": [
        {
          "output_type": "stream",
          "name": "stdout",
          "text": [
            "First row: tensor([1., 1., 1., 1.])\n",
            "First column: tensor([1., 1., 1., 1.])\n",
            "Last column: tensor([1., 1., 1., 1.])\n",
            "tensor([[1., 1., 1., 0.],\n",
            "        [1., 1., 1., 0.],\n",
            "        [1., 1., 1., 0.],\n",
            "        [1., 1., 1., 0.]])\n"
          ]
        }
      ]
    },
    {
      "cell_type": "markdown",
      "source": [
        "### Exercício"
      ],
      "metadata": {
        "id": "J4sUMaN_8ZQe"
      }
    },
    {
      "cell_type": "code",
      "source": [
        "tns = torch.randn(9,12)\n",
        "tns1 = tns[0:5, 0:4]\n",
        "tns2 = tns[5:, 4:]\n",
        "\n",
        "resultado = torch.mm(tns1, tns2)\n",
        "print(resultado.size())"
      ],
      "metadata": {
        "colab": {
          "base_uri": "https://localhost:8080/"
        },
        "id": "RpfQFZHJ5Gkj",
        "outputId": "6d344e10-dfbf-4685-a154-a60811371a90"
      },
      "execution_count": 10,
      "outputs": [
        {
          "output_type": "stream",
          "name": "stdout",
          "text": [
            "torch.Size([5, 8])\n"
          ]
        }
      ]
    },
    {
      "cell_type": "code",
      "source": [
        "data1 = [[1,2], [3,4]]\n",
        "data2 = [[5,6],[7,8]]\n",
        "data3 = [[9,10], [11,12]]\n",
        "\n",
        "tns1 = torch.tensor(data1)\n",
        "tns2 = torch.tensor(data2)\n",
        "tns3 = torch.tensor(data3)\n",
        "\n",
        "tns_stack = torch.stack([tns1, tns2, tns3]) # concatena uma sequência de tensores\n",
        "print(tns_stack)"
      ],
      "metadata": {
        "colab": {
          "base_uri": "https://localhost:8080/"
        },
        "id": "hslVY3yu8zpx",
        "outputId": "c2f1f556-5108-429c-f89e-27e7b6fbc51d"
      },
      "execution_count": 11,
      "outputs": [
        {
          "output_type": "stream",
          "name": "stdout",
          "text": [
            "tensor([[[ 1,  2],\n",
            "         [ 3,  4]],\n",
            "\n",
            "        [[ 5,  6],\n",
            "         [ 7,  8]],\n",
            "\n",
            "        [[ 9, 10],\n",
            "         [11, 12]]])\n"
          ]
        }
      ]
    },
    {
      "cell_type": "code",
      "source": [
        "t1_t2 = torch.mm(tns1,tns2)\n",
        "print(t1_t2)"
      ],
      "metadata": {
        "colab": {
          "base_uri": "https://localhost:8080/"
        },
        "id": "useiOGm7HB66",
        "outputId": "67f91b44-c975-430e-c4d5-cd7df93c1bd0"
      },
      "execution_count": 12,
      "outputs": [
        {
          "output_type": "stream",
          "name": "stdout",
          "text": [
            "tensor([[19, 22],\n",
            "        [43, 50]])\n"
          ]
        }
      ]
    },
    {
      "cell_type": "code",
      "source": [
        "t1_t2_t3 = torch.mm(t1_t2, tns3)\n",
        "print(t1_t2_t3)"
      ],
      "metadata": {
        "colab": {
          "base_uri": "https://localhost:8080/"
        },
        "id": "i5hFCFV2Jsv1",
        "outputId": "639018e9-29e0-40c1-84f8-610fcc892413"
      },
      "execution_count": 13,
      "outputs": [
        {
          "output_type": "stream",
          "name": "stdout",
          "text": [
            "tensor([[ 413,  454],\n",
            "        [ 937, 1030]])\n"
          ]
        }
      ]
    },
    {
      "cell_type": "code",
      "source": [
        "x = torch.randn(2,3)\n",
        "print(x)"
      ],
      "metadata": {
        "id": "oBfxLhNyJ3AJ",
        "colab": {
          "base_uri": "https://localhost:8080/"
        },
        "outputId": "4009d26b-e0e2-4370-e4ec-b09aac7f6434"
      },
      "execution_count": 14,
      "outputs": [
        {
          "output_type": "stream",
          "name": "stdout",
          "text": [
            "tensor([[-0.4004, -0.7055,  0.6393],\n",
            "        [-0.0565,  1.4095, -0.2137]])\n"
          ]
        }
      ]
    },
    {
      "cell_type": "markdown",
      "source": [
        "### Concatenação de Tensores"
      ],
      "metadata": {
        "id": "KkOJG8L29xwz"
      }
    },
    {
      "cell_type": "code",
      "source": [
        "# dim = 0 -> tensores concatenados na 1D (linha)\n",
        "x_cat = torch.cat((x,x,x),0)\n",
        "print(x_cat) # shape(6,3)\n",
        "\n",
        "# dim = 1 -> tensores concatenados na 2D (coluna)\n",
        "x_cat_n = torch.cat((x, x, x), 1)\n",
        "print(x_cat_n) # shape(2,9)\n",
        "\n",
        "# para tensores 3D a dimensão pode ser: 0, 1, 2\n",
        "# para tensores multidimensionais a dimensão pode assumir qualquer valor\n",
        "\n",
        "# o argumento out é indicado quando temos um tensor novo (vazio)\n",
        "# para armazenar o novo tensor retornado pelo método\n",
        "\n",
        "# para criar um tensor vazio temos o método: torch.empty(nl, nc)"
      ],
      "metadata": {
        "colab": {
          "base_uri": "https://localhost:8080/"
        },
        "id": "wNfKWgcW4Ny7",
        "outputId": "2766641e-1010-4a44-da12-dbeee211c3c1"
      },
      "execution_count": 15,
      "outputs": [
        {
          "output_type": "stream",
          "name": "stdout",
          "text": [
            "tensor([[-0.4004, -0.7055,  0.6393],\n",
            "        [-0.0565,  1.4095, -0.2137],\n",
            "        [-0.4004, -0.7055,  0.6393],\n",
            "        [-0.0565,  1.4095, -0.2137],\n",
            "        [-0.4004, -0.7055,  0.6393],\n",
            "        [-0.0565,  1.4095, -0.2137]])\n",
            "tensor([[-0.4004, -0.7055,  0.6393, -0.4004, -0.7055,  0.6393, -0.4004, -0.7055,\n",
            "          0.6393],\n",
            "        [-0.0565,  1.4095, -0.2137, -0.0565,  1.4095, -0.2137, -0.0565,  1.4095,\n",
            "         -0.2137]])\n"
          ]
        }
      ]
    },
    {
      "cell_type": "markdown",
      "source": [
        "### Divisão de tensores\n",
        "\n",
        "- split: tamanhos\n",
        "- chunks: pedaços\n",
        "- tensor_split: subtensores"
      ],
      "metadata": {
        "id": "RQMpWQUL-qIx"
      }
    },
    {
      "cell_type": "code",
      "source": [
        "tensor = torch.arange(10)\n",
        "print(tensor)"
      ],
      "metadata": {
        "colab": {
          "base_uri": "https://localhost:8080/"
        },
        "id": "AdQ2m8fT6gI6",
        "outputId": "8e145d76-e49a-4091-c844-8e9e88ec404e"
      },
      "execution_count": 16,
      "outputs": [
        {
          "output_type": "stream",
          "name": "stdout",
          "text": [
            "tensor([0, 1, 2, 3, 4, 5, 6, 7, 8, 9])\n"
          ]
        }
      ]
    },
    {
      "cell_type": "markdown",
      "source": [
        "**Método split**\n",
        "\n",
        "Controle sobre o tamanho dos pedaços"
      ],
      "metadata": {
        "id": "y_Koui77Gj6e"
      }
    },
    {
      "cell_type": "code",
      "source": [
        "# c / chunk terá tamanho igual, exceto o último se não for divisível pelo tamanho (split_size)\n",
        "chunks = torch.split(tensor,3)\n",
        "for i, chunk in enumerate(chunks):\n",
        "  print(f\"Chunk {i}: {chunk} e {chunk.size()}\")"
      ],
      "metadata": {
        "colab": {
          "base_uri": "https://localhost:8080/"
        },
        "id": "bWYX9MD6-0dM",
        "outputId": "3a7acc37-7e2f-4981-f60a-adf2c02de4e0"
      },
      "execution_count": 17,
      "outputs": [
        {
          "output_type": "stream",
          "name": "stdout",
          "text": [
            "Chunk 0: tensor([0, 1, 2]) e torch.Size([3])\n",
            "Chunk 1: tensor([3, 4, 5]) e torch.Size([3])\n",
            "Chunk 2: tensor([6, 7, 8]) e torch.Size([3])\n",
            "Chunk 3: tensor([9]) e torch.Size([1])\n"
          ]
        }
      ]
    },
    {
      "cell_type": "code",
      "source": [
        "# c / chunk terá tamanho diferente (sections)\n",
        "chunks = torch.split(tensor,[4, 2, 4])\n",
        "for i, chunk in enumerate(chunks):\n",
        "  print(f\"Chunk {i}: {chunk} e {chunk.size()}\")"
      ],
      "metadata": {
        "colab": {
          "base_uri": "https://localhost:8080/"
        },
        "id": "H-5BTLCpALlk",
        "outputId": "075c5d60-56b4-4747-9ada-e930c7d7b047"
      },
      "execution_count": 18,
      "outputs": [
        {
          "output_type": "stream",
          "name": "stdout",
          "text": [
            "Chunk 0: tensor([0, 1, 2, 3]) e torch.Size([4])\n",
            "Chunk 1: tensor([4, 5]) e torch.Size([2])\n",
            "Chunk 2: tensor([6, 7, 8, 9]) e torch.Size([4])\n"
          ]
        }
      ]
    },
    {
      "cell_type": "markdown",
      "source": [
        "**Método chunk**\n",
        "\n",
        "Controle sobre a quantidade de pedaços. Não aceita lista ou tupla como argumento"
      ],
      "metadata": {
        "id": "3t1XPTV6GpE8"
      }
    },
    {
      "cell_type": "code",
      "source": [
        "# dividiu o tensor em 6 partes iguais\n",
        "torch.arange(12).chunk(6)"
      ],
      "metadata": {
        "colab": {
          "base_uri": "https://localhost:8080/"
        },
        "id": "0mYVZNxTFKFz",
        "outputId": "303a56cd-3022-4fe1-dc52-61ad7b946035"
      },
      "execution_count": 19,
      "outputs": [
        {
          "output_type": "execute_result",
          "data": {
            "text/plain": [
              "(tensor([0, 1]),\n",
              " tensor([2, 3]),\n",
              " tensor([4, 5]),\n",
              " tensor([6, 7]),\n",
              " tensor([8, 9]),\n",
              " tensor([10, 11]))"
            ]
          },
          "metadata": {},
          "execution_count": 19
        }
      ]
    },
    {
      "cell_type": "code",
      "source": [
        "# dividiu o tensor em 5 partes iguais e 1 diferente\n",
        "torch.arange(11).chunk(6)"
      ],
      "metadata": {
        "colab": {
          "base_uri": "https://localhost:8080/"
        },
        "id": "IfBdsEDBG6c0",
        "outputId": "2f710717-d8ab-41d2-b417-000e138f1535"
      },
      "execution_count": 20,
      "outputs": [
        {
          "output_type": "execute_result",
          "data": {
            "text/plain": [
              "(tensor([0, 1]),\n",
              " tensor([2, 3]),\n",
              " tensor([4, 5]),\n",
              " tensor([6, 7]),\n",
              " tensor([8, 9]),\n",
              " tensor([10]))"
            ]
          },
          "metadata": {},
          "execution_count": 20
        }
      ]
    },
    {
      "cell_type": "markdown",
      "source": [
        "**Método torch.tensor_split**\n",
        "\n",
        "Controle sobre a quantidade de pedaços, contudo aceita lista ou tupla sendo que diferente do torch.split a lista ou a tupla receberá em qual índice inicia o corte respeitando a regra:\n",
        "- antes do índice especificado\n",
        "- entre os índices especifiados\n",
        "- após o índice especificado\n",
        "- exemplo: (1,6)\n",
        "    - antes do índice 1\n",
        "    - entre índice 1 a 6\n",
        "    - após o índice 6\n",
        "\n",
        "No caso do torch.split, a lista ou a tupla especifica o tamanho de cada pedaço"
      ],
      "metadata": {
        "id": "2UQ4xIwbOEgK"
      }
    },
    {
      "cell_type": "code",
      "source": [
        "x = torch.arange(8).reshape(4,2)\n",
        "torch.tensor_split(x, 3)\n",
        "\n",
        "# torch.tensor_split(tns, index_or_sections, dim)\n",
        "# index_or_sections é diferente de split_size_or_section"
      ],
      "metadata": {
        "colab": {
          "base_uri": "https://localhost:8080/"
        },
        "id": "eDUUQmPwHDpj",
        "outputId": "e1757515-3bdd-4b74-ab00-9f210fc942e4"
      },
      "execution_count": 21,
      "outputs": [
        {
          "output_type": "execute_result",
          "data": {
            "text/plain": [
              "(tensor([[0, 1],\n",
              "         [2, 3]]),\n",
              " tensor([[4, 5]]),\n",
              " tensor([[6, 7]]))"
            ]
          },
          "metadata": {},
          "execution_count": 21
        }
      ]
    },
    {
      "cell_type": "code",
      "source": [
        "torch.tensor_split(x, 3, 1)"
      ],
      "metadata": {
        "colab": {
          "base_uri": "https://localhost:8080/"
        },
        "id": "-vqGiDv-I5yE",
        "outputId": "c074a66d-613a-426e-aa8d-43cb556d1707"
      },
      "execution_count": 22,
      "outputs": [
        {
          "output_type": "execute_result",
          "data": {
            "text/plain": [
              "(tensor([[0],\n",
              "         [2],\n",
              "         [4],\n",
              "         [6]]),\n",
              " tensor([[1],\n",
              "         [3],\n",
              "         [5],\n",
              "         [7]]),\n",
              " tensor([], size=(4, 0), dtype=torch.int64))"
            ]
          },
          "metadata": {},
          "execution_count": 22
        }
      ]
    },
    {
      "cell_type": "markdown",
      "source": [
        "### Operações aritméticas\n",
        "\n",
        "- @ : calcula o produto interno. Multiplica cada elemento do tensor com elemento do outro tensor e soma todos  os resultados.\n",
        "\n",
        "- T: faz a transposição em tensores com mais de 1D: (l x c) -> (c x l)\n",
        "\n",
        "- torch.matmul: faz multiplicação entre dois tensores\n",
        "\n",
        "- torch.mul: faz multplicação entre dois tensores ou um tensor e um número"
      ],
      "metadata": {
        "id": "2jAcExsiQGxC"
      }
    },
    {
      "cell_type": "markdown",
      "source": [
        "**Multiplicação com \"@\"**"
      ],
      "metadata": {
        "id": "wTJNihrUVcqW"
      }
    },
    {
      "cell_type": "code",
      "source": [
        "y = torch.arange(10)\n",
        "y_t = y @ y\n",
        "print(y_t)"
      ],
      "metadata": {
        "colab": {
          "base_uri": "https://localhost:8080/"
        },
        "id": "SJbIsxZJQ1VW",
        "outputId": "2a678704-c3f4-436a-a5ce-955070b6b303"
      },
      "execution_count": 23,
      "outputs": [
        {
          "output_type": "stream",
          "name": "stdout",
          "text": [
            "tensor(285)\n"
          ]
        }
      ]
    },
    {
      "cell_type": "code",
      "source": [
        "x = torch.tensor([[1,2,3],\n",
        "                 [4,5,6]])\n",
        "\n",
        "x_t = x @ x.T\n",
        "\n",
        "print(x_t)"
      ],
      "metadata": {
        "colab": {
          "base_uri": "https://localhost:8080/"
        },
        "id": "8n9LAotFRPIJ",
        "outputId": "ca931d3c-8230-4b25-9d32-0a89bfb3d41d"
      },
      "execution_count": 24,
      "outputs": [
        {
          "output_type": "stream",
          "name": "stdout",
          "text": [
            "tensor([[14, 32],\n",
            "        [32, 77]])\n"
          ]
        }
      ]
    },
    {
      "cell_type": "markdown",
      "source": [
        "**Multiplicação com matmul**\n",
        "\n"
      ],
      "metadata": {
        "id": "LW3rIQ9HVtAO"
      }
    },
    {
      "cell_type": "code",
      "source": [
        "x_mt = x.matmul(x.T)\n",
        "print(x_mt)"
      ],
      "metadata": {
        "colab": {
          "base_uri": "https://localhost:8080/"
        },
        "id": "xvyHOipJUAwA",
        "outputId": "b35c2334-12fa-4a84-fbe3-9cd8cea07d24"
      },
      "execution_count": 25,
      "outputs": [
        {
          "output_type": "stream",
          "name": "stdout",
          "text": [
            "tensor([[14, 32],\n",
            "        [32, 77]])\n"
          ]
        }
      ]
    },
    {
      "cell_type": "markdown",
      "source": [
        "**Multiplicação com mul**\n",
        "\n",
        "O método torch.mul aceita dois tensores podendo um deles ser transposto;\n",
        "\n",
        "O método tensor.mul não aceita tensores transpostos, sendo que nesse exemplo o método acessa diretamente o tensor, diferente do método anterior.\n",
        "\n",
        "O método mul permite multiplicar o tensor por um número.\n",
        "\n",
        "Quando passamos um tensor transposto o pytorch faz um broadcasting transformando virtualmente o tensor transposto no tensor original.\n",
        "\n",
        "\n",
        "Para evitar comportamento inesperado ou erro use o método **mul** com tensores com o mesmo formato."
      ],
      "metadata": {
        "id": "y57iDERVWjcz"
      }
    },
    {
      "cell_type": "code",
      "source": [
        "# comportamento inesperado -> realizou um broadcasting ou dará um erro\n",
        "# x_ml = torch.mul(x,x.T)\n",
        "# print(x_ml)"
      ],
      "metadata": {
        "id": "11xkvsEAWA2z"
      },
      "execution_count": 26,
      "outputs": []
    },
    {
      "cell_type": "code",
      "source": [
        "# melhor maneira de usar o método mul ou torch.mul\n",
        "x_ml = x.mul(x)\n",
        "print(x_ml)"
      ],
      "metadata": {
        "colab": {
          "base_uri": "https://localhost:8080/"
        },
        "id": "udc7nRwddFE2",
        "outputId": "b585c581-50b1-4897-d14f-350b9ca06965"
      },
      "execution_count": 27,
      "outputs": [
        {
          "output_type": "stream",
          "name": "stdout",
          "text": [
            "tensor([[ 1,  4,  9],\n",
            "        [16, 25, 36]])\n"
          ]
        }
      ]
    },
    {
      "cell_type": "code",
      "source": [
        "# x_t = x.T\n",
        "# x_ml = x.mul(x_t)\n",
        "# print(x_ml)"
      ],
      "metadata": {
        "id": "2njMUPwGdm-Y"
      },
      "execution_count": 28,
      "outputs": []
    },
    {
      "cell_type": "markdown",
      "source": [
        "### Produto Escalar (inteno) x Produto de Matrizes\n",
        "\n",
        "- Produto escalar retorna apenas uma valor, é a soma do produto de cada elemento do vetor.\n",
        "\n",
        "- Produto de Matrizes retorna uma nova matriz com o resultado do produto de cada elemento do vetor."
      ],
      "metadata": {
        "id": "l23SJ8Oak3en"
      }
    },
    {
      "cell_type": "markdown",
      "source": [
        "### Visualização de Tensor (View)\n",
        "\n",
        "Altera o formato de um tensor sem alterar seus dados, sendo equivalente ao reshape, mas o reshape pode retornar um tensor diferente. Em caso de tensor contíguo o reshape cria uma cópia, enquanto que view lança um erro.\n",
        "\n",
        "O view não cria uma cópia dos dados, ele cria um novo tensor que aponta para a mesma memória.\n",
        "\n",
        "Número total de elementos deve ser igual: a multiplicação das novas dimensões deve ser igual ao número total de elementos do tensor original. Se tenho um tensor de 6 elementos, a multiplicação das dimensões deve resultar em 6: 3 x2 ou 2 x 3.\n",
        "\n",
        "O tensor contíguo é aquele os dados estã armazenados em único bloco contínuo de memória; não contíguo é aquele em que os dados estão armazenados em blocos diferentes na memória devido a operações de slicing (fatiamento) ou de transposição.\n",
        "\n",
        "Em caso de um tensor não contíguo, use o método *contíguos()* para criar uma cópia contígua do tensor."
      ],
      "metadata": {
        "id": "QCg98VQlowQk"
      }
    },
    {
      "cell_type": "code",
      "source": [
        "x = torch.randn(4,4)\n",
        "x.size()\n",
        "x"
      ],
      "metadata": {
        "colab": {
          "base_uri": "https://localhost:8080/"
        },
        "id": "q2ahPbdEk9kd",
        "outputId": "6df03f18-589a-4ff8-cd38-6c1a6532dcd0"
      },
      "execution_count": 29,
      "outputs": [
        {
          "output_type": "execute_result",
          "data": {
            "text/plain": [
              "tensor([[-0.2390, -1.6790, -0.0465, -0.3980],\n",
              "        [ 0.4529, -0.0462,  0.0169, -0.1795],\n",
              "        [ 0.0951,  1.8392, -1.0161,  0.3036],\n",
              "        [ 0.2746, -0.9279, -0.4469, -0.8131]])"
            ]
          },
          "metadata": {},
          "execution_count": 29
        }
      ]
    },
    {
      "cell_type": "code",
      "source": [
        "y = x.view(16)\n",
        "print(y)\n",
        "print(y.size())"
      ],
      "metadata": {
        "colab": {
          "base_uri": "https://localhost:8080/"
        },
        "id": "ADgeSU2PpABG",
        "outputId": "69689851-005b-46cc-e6ae-eb20b6cfaf65"
      },
      "execution_count": 30,
      "outputs": [
        {
          "output_type": "stream",
          "name": "stdout",
          "text": [
            "tensor([-0.2390, -1.6790, -0.0465, -0.3980,  0.4529, -0.0462,  0.0169, -0.1795,\n",
            "         0.0951,  1.8392, -1.0161,  0.3036,  0.2746, -0.9279, -0.4469, -0.8131])\n",
            "torch.Size([16])\n"
          ]
        }
      ]
    },
    {
      "cell_type": "code",
      "source": [
        "z = x.view(-1, 8) # -1 é uma dimensão coringa que será dada com base nas dimensões anteriores\n",
        "print(z)\n",
        "print(z.size())"
      ],
      "metadata": {
        "colab": {
          "base_uri": "https://localhost:8080/"
        },
        "id": "MCGzkGsWpHrz",
        "outputId": "9338601a-726d-4a69-96dd-62dfb933f70d"
      },
      "execution_count": 31,
      "outputs": [
        {
          "output_type": "stream",
          "name": "stdout",
          "text": [
            "tensor([[-0.2390, -1.6790, -0.0465, -0.3980,  0.4529, -0.0462,  0.0169, -0.1795],\n",
            "        [ 0.0951,  1.8392, -1.0161,  0.3036,  0.2746, -0.9279, -0.4469, -0.8131]])\n",
            "torch.Size([2, 8])\n"
          ]
        }
      ]
    },
    {
      "cell_type": "code",
      "source": [
        "h = x.reshape(-1,8)\n",
        "print(h.size())\n",
        "print(h)"
      ],
      "metadata": {
        "colab": {
          "base_uri": "https://localhost:8080/"
        },
        "id": "g6pjR0bCuueA",
        "outputId": "0f8db24d-3868-4ac1-92c0-8c12e6646a01"
      },
      "execution_count": 32,
      "outputs": [
        {
          "output_type": "stream",
          "name": "stdout",
          "text": [
            "torch.Size([2, 8])\n",
            "tensor([[-0.2390, -1.6790, -0.0465, -0.3980,  0.4529, -0.0462,  0.0169, -0.1795],\n",
            "        [ 0.0951,  1.8392, -1.0161,  0.3036,  0.2746, -0.9279, -0.4469, -0.8131]])\n"
          ]
        }
      ]
    },
    {
      "cell_type": "markdown",
      "source": [
        "### Exercício 2"
      ],
      "metadata": {
        "id": "F7u36kn0zKEi"
      }
    },
    {
      "cell_type": "code",
      "source": [
        "tns1 = torch.rand(7,7,3)\n",
        "tns2 = torch.rand(147,1)\n",
        "tns1 = tns1.view(-1,1)\n",
        "\n",
        "soma = tns1 + tns2\n",
        "print(soma.size())"
      ],
      "metadata": {
        "colab": {
          "base_uri": "https://localhost:8080/"
        },
        "id": "Gg8UOHYkzNZy",
        "outputId": "f2622c01-037f-4f3f-ccbc-eddc2c280a0f"
      },
      "execution_count": 40,
      "outputs": [
        {
          "output_type": "stream",
          "name": "stdout",
          "text": [
            "torch.Size([147, 1])\n"
          ]
        }
      ]
    },
    {
      "cell_type": "markdown",
      "source": [
        "### Explorando as dimensões de um tensor\n",
        "\n",
        "As dimensões operam como índices de lista"
      ],
      "metadata": {
        "id": "3Y0f30PS3Jum"
      }
    },
    {
      "cell_type": "code",
      "source": [
        "tensor = torch.rand(2,3,4)\n",
        "print(tensor.sum(dim=0).shape)\n",
        "print(tensor.sum(dim=1).shape)\n",
        "print(tensor.sum(dim=2).shape)"
      ],
      "metadata": {
        "colab": {
          "base_uri": "https://localhost:8080/"
        },
        "id": "7tks11njzWsq",
        "outputId": "8f622bbd-efbb-4d72-be72-5baf2cbba4ed"
      },
      "execution_count": 48,
      "outputs": [
        {
          "output_type": "stream",
          "name": "stdout",
          "text": [
            "torch.Size([3, 4])\n",
            "torch.Size([2, 4])\n",
            "torch.Size([2, 3])\n"
          ]
        }
      ]
    },
    {
      "cell_type": "code",
      "source": [
        "tensor = torch.rand(4,5)\n",
        "print(tensor.sum(dim=-1).shape)\n",
        "print(tensor.sum(dim=-2).shape)"
      ],
      "metadata": {
        "colab": {
          "base_uri": "https://localhost:8080/"
        },
        "id": "xYJ_bSdJ4EiY",
        "outputId": "ef7b3bdd-4ca6-4923-f809-2633e62dce54"
      },
      "execution_count": 47,
      "outputs": [
        {
          "output_type": "stream",
          "name": "stdout",
          "text": [
            "torch.Size([4])\n",
            "torch.Size([5])\n"
          ]
        }
      ]
    }
  ]
}